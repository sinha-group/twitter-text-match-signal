{
 "cells": [
  {
   "cell_type": "markdown",
   "metadata": {},
   "source": [
    "### Approach\n",
    "1. Download past X Tweets from the accounts file (default: config/test/accounts.txt, custom data can be placed in config/custom/accounts.txt)\n",
    "2. Match keywords in these Tweets with weights (default: config/test/keywords.txt, custom data can be placed in config/custom/keywords.txt)\n",
    "3. Download past X market data across crypto exchanges (config/required/exchange.txt)\n",
    "4. Change the weights to try and make them more accurate."
   ]
  },
  {
   "cell_type": "code",
   "execution_count": null,
   "metadata": {},
   "outputs": [],
   "source": []
  }
 ],
 "metadata": {
  "kernelspec": {
   "display_name": "Python 3",
   "language": "python",
   "name": "python3"
  },
  "language_info": {
   "codemirror_mode": {
    "name": "ipython",
    "version": 3
   },
   "file_extension": ".py",
   "mimetype": "text/x-python",
   "name": "python",
   "nbconvert_exporter": "python",
   "pygments_lexer": "ipython3",
   "version": "3.7.1"
  }
 },
 "nbformat": 4,
 "nbformat_minor": 2
}
